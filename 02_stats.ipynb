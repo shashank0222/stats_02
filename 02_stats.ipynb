{
 "cells": [
  {
   "cell_type": "markdown",
   "id": "eb626a24-ef47-4114-8040-cb8d3e4b99ca",
   "metadata": {},
   "source": [
    " Q1. What are the three measures of central tendency?"
   ]
  },
  {
   "cell_type": "markdown",
   "id": "082f3b7f-5bb2-4ba3-b54e-e3ee73859578",
   "metadata": {},
   "source": [
    "Solution:"
   ]
  },
  {
   "cell_type": "markdown",
   "id": "a11f8ab3-d8a4-45ec-a08f-d91776794933",
   "metadata": {},
   "source": [
    "The three measures of central tendency are mean , median , and mode"
   ]
  },
  {
   "cell_type": "code",
   "execution_count": null,
   "id": "e9560d6b-39f6-4213-b352-6c88d401ef3f",
   "metadata": {},
   "outputs": [],
   "source": []
  },
  {
   "cell_type": "markdown",
   "id": "81f6a20a-c276-4bf7-98aa-0176c8446d3c",
   "metadata": {},
   "source": [
    "Q2. What is the difference between the mean, median, and mode? How are they used to measure the\n",
    "central tendency of a dataset?"
   ]
  },
  {
   "cell_type": "markdown",
   "id": "e7865705-4040-4800-933e-e721a0bd93a5",
   "metadata": {},
   "source": [
    "Solution"
   ]
  },
  {
   "cell_type": "markdown",
   "id": "9a3205c9-f118-4501-8ed9-080ffd9b19b5",
   "metadata": {},
   "source": [
    "The mean , median , and mode are the measures of central tendency used to describe the \n",
    "center of a dataset. The mean is the average of  all values in a dataset. The median is the middle value in an ordered dataset. The mode is the most frequent value in the dataset.\n",
    "\n",
    "These measures are used to describe the central tendency of a dataset because they provide\n",
    "information about where most of the data lies . The mean is useful when data is normallly \n",
    "distributed, while the median is more useful when the data is skewed. The mode is useful\n",
    "when working with nominal variables.\n"
   ]
  },
  {
   "cell_type": "code",
   "execution_count": null,
   "id": "90d592d9-01e0-4e18-bd89-2e7b1b83908c",
   "metadata": {},
   "outputs": [],
   "source": []
  },
  {
   "cell_type": "markdown",
   "id": "7e060e27-0a48-4727-8f46-9a1fb3cb144c",
   "metadata": {},
   "source": [
    "Q3. Measure the three measures of central tendency for the given height data:\n",
    "[178,177,176,177,178.2,178,175,179,180,175,178.9,176.2,177,172.5,178,176.5]"
   ]
  },
  {
   "cell_type": "code",
   "execution_count": 2,
   "id": "16c6bb9a-4652-4175-8129-827e61d1227b",
   "metadata": {},
   "outputs": [],
   "source": [
    "import pandas as pd\n",
    "df = pd.DataFrame([178,177,176,177,178.2,178,175,179,180,175,178.9,176.2,177,172.5,178,176.5])"
   ]
  },
  {
   "cell_type": "code",
   "execution_count": 6,
   "id": "201c0434-42bf-4e93-946e-3ad9a69e31f1",
   "metadata": {},
   "outputs": [
    {
     "data": {
      "text/plain": [
       "0    177.01875\n",
       "dtype: float64"
      ]
     },
     "execution_count": 6,
     "metadata": {},
     "output_type": "execute_result"
    }
   ],
   "source": [
    "df.mean()"
   ]
  },
  {
   "cell_type": "code",
   "execution_count": 7,
   "id": "2d4a9076-cc96-4686-b738-3debfc2a2359",
   "metadata": {},
   "outputs": [
    {
     "data": {
      "text/plain": [
       "0    177.0\n",
       "dtype: float64"
      ]
     },
     "execution_count": 7,
     "metadata": {},
     "output_type": "execute_result"
    }
   ],
   "source": [
    "df.median()"
   ]
  },
  {
   "cell_type": "code",
   "execution_count": 8,
   "id": "b07c7158-a947-4c85-9a4e-dc363748db8f",
   "metadata": {},
   "outputs": [
    {
     "name": "stderr",
     "output_type": "stream",
     "text": [
      "/tmp/ipykernel_303/2724530167.py:3: FutureWarning: Unlike other reduction functions (e.g. `skew`, `kurtosis`), the default behavior of `mode` typically preserves the axis it acts along. In SciPy 1.11.0, this behavior will change: the default value of `keepdims` will become False, the `axis` over which the statistic is taken will be eliminated, and the value None will no longer be accepted. Set `keepdims` to True or False to avoid this warning.\n",
      "  stats.mode([178,177,176,177,178.2,178,175,179,180,175,178.9,176.2,177,172.5,178,176.5])\n"
     ]
    },
    {
     "data": {
      "text/plain": [
       "ModeResult(mode=array([177.]), count=array([3]))"
      ]
     },
     "execution_count": 8,
     "metadata": {},
     "output_type": "execute_result"
    }
   ],
   "source": [
    "from scipy import stats\n",
    "\n",
    "stats.mode([178,177,176,177,178.2,178,175,179,180,175,178.9,176.2,177,172.5,178,176.5])"
   ]
  },
  {
   "cell_type": "code",
   "execution_count": null,
   "id": "d02c707d-4aee-4d46-8d65-3b405237bb85",
   "metadata": {},
   "outputs": [],
   "source": []
  },
  {
   "cell_type": "markdown",
   "id": "5208d3ab-c623-4d4f-898d-260e954859a2",
   "metadata": {},
   "source": [
    "Q4. Find the standard deviation for the given data:\n",
    "[178,177,176,177,178.2,178,175,179,180,175,178.9,176.2,177,172.5,178,176.5]"
   ]
  },
  {
   "cell_type": "markdown",
   "id": "edabba3b-fa24-4860-93e5-85463759be36",
   "metadata": {},
   "source": [
    "Solution:"
   ]
  },
  {
   "cell_type": "code",
   "execution_count": 10,
   "id": "5bbae2e4-f001-4866-ac06-95db9cde9ac4",
   "metadata": {},
   "outputs": [
    {
     "data": {
      "text/plain": [
       "0    1.847239\n",
       "dtype: float64"
      ]
     },
     "execution_count": 10,
     "metadata": {},
     "output_type": "execute_result"
    }
   ],
   "source": [
    "df.std()"
   ]
  },
  {
   "cell_type": "code",
   "execution_count": null,
   "id": "04e49bf5-8b95-4fae-9e2b-8e4db4359c74",
   "metadata": {},
   "outputs": [],
   "source": []
  },
  {
   "cell_type": "markdown",
   "id": "0d12100b-7b36-4207-b53f-3c3035040c03",
   "metadata": {},
   "source": [
    "Q5. How are measures of dispersion such as range, variance, and standard deviation used to describe\n",
    "the spread of a dataset? Provide an example."
   ]
  },
  {
   "cell_type": "markdown",
   "id": "7b6e58ee-75a5-4e2c-8236-aa6949549a9d",
   "metadata": {},
   "source": [
    "Solution:"
   ]
  },
  {
   "cell_type": "markdown",
   "id": "1c85bb12-de1b-42c8-9d54-058798083e19",
   "metadata": {},
   "source": [
    "Measures of dispersion are used to describe the spread of a dataset. The range is the difference between the largest and smallest values in a dataset. The variance is the average of the squared differences from the mean. The standard deviation is the square root of the variance"
   ]
  },
  {
   "cell_type": "markdown",
   "id": "9f2302b1-d434-4dce-8619-29da9c5f3f73",
   "metadata": {},
   "source": [
    "For example, suppose we have a dataset of exam scores: 60, 70, 80, 90, and 100. The range is 100 - 60 = 40. The mean is (60 + 70 + 80 + 90 + 100) / 5 = 80. The variance is ((60 - 80)^2 + (70 - 80)^2 + (80 - 80)^2 + (90 - 80)^2 + (100 - 80)^2) / 5 = 200. The standard deviation is the square root of the variance, which is √200 ≈ 14.14"
   ]
  },
  {
   "cell_type": "code",
   "execution_count": null,
   "id": "bb2b708b-e787-4bad-b595-f8f775672451",
   "metadata": {},
   "outputs": [],
   "source": []
  },
  {
   "cell_type": "markdown",
   "id": "f76db873-e1a5-4831-89ac-e0919a680d61",
   "metadata": {},
   "source": [
    "Q6. What is a Venn diagram?"
   ]
  },
  {
   "cell_type": "markdown",
   "id": "e9862c5e-fa14-4461-b21f-f8ccab4cdb90",
   "metadata": {},
   "source": [
    "Solution :"
   ]
  },
  {
   "cell_type": "markdown",
   "id": "eb37e6af-8c9b-4b24-a39a-3667217511e4",
   "metadata": {},
   "source": [
    "A Venn diagram is a diagram that shows all possible logical relations between a finite collection of different sets. It is a widely used diagram style that shows the logical relation between sets, popularized by John Venn (1834–1923) in the 1880s."
   ]
  },
  {
   "cell_type": "code",
   "execution_count": null,
   "id": "0e419359-bf2c-4a2b-9a5a-e58146a8d898",
   "metadata": {},
   "outputs": [],
   "source": []
  },
  {
   "cell_type": "markdown",
   "id": "f3f2c0f3-b11c-4d1f-b72f-d6a79fc6972b",
   "metadata": {},
   "source": [
    "Q7. For the two given sets A = (2,3,4,5,6,7) & B = (0,2,6,8,10). Find:\n",
    "\n",
    "(i) A ^ B\n",
    "\n",
    "(ii) A ⋃ B"
   ]
  },
  {
   "cell_type": "markdown",
   "id": "e5c5cbf7-ad99-4814-9d74-26ab8bc0d76c",
   "metadata": {},
   "source": [
    "Solution : "
   ]
  },
  {
   "cell_type": "markdown",
   "id": "b1a199d7-7a69-48a4-9e9b-5b0809ec4e36",
   "metadata": {},
   "source": [
    "1. (2,6)  \n",
    "\n",
    "2. (0,2,3,4,5,6,7,8,10)"
   ]
  },
  {
   "cell_type": "code",
   "execution_count": null,
   "id": "c97282df-b1c7-49ce-8afb-8f2906175fb8",
   "metadata": {},
   "outputs": [],
   "source": []
  },
  {
   "cell_type": "markdown",
   "id": "b3fe8af6-a764-4d91-9f1a-58f73c530b2c",
   "metadata": {},
   "source": [
    "Q8. What do you understand about skewness in data?"
   ]
  },
  {
   "cell_type": "markdown",
   "id": "b3425352-f900-460e-8035-b52ae2a0f0af",
   "metadata": {},
   "source": [
    "Solution:\n",
    "    "
   ]
  },
  {
   "cell_type": "markdown",
   "id": "1fa0dd8e-89b9-4fd1-98f8-651620714b44",
   "metadata": {},
   "source": [
    "Skewness is the measusre of asymmetry of a probability distribution. A distribution is said\n",
    "to be skewed if it is not symmetric.In other words,if one tail is longer than the other tail,\n",
    "the distribution is skewed.\n",
    "\n",
    "Positive skewness occurs when the tail on the right side of the distribution is longer or fatter than the left side. Negative skewness occurs when the tail on the left side of the distribution is longer or fatter than the right side."
   ]
  },
  {
   "cell_type": "code",
   "execution_count": null,
   "id": "0948f1d8-2047-4968-aa07-15a1245fad4c",
   "metadata": {},
   "outputs": [],
   "source": []
  },
  {
   "cell_type": "markdown",
   "id": "f6769b94-1e9d-461c-b444-70c49453e1f4",
   "metadata": {},
   "source": [
    "Q9. If a data is right skewed then what will be the position of median with respect to mean?"
   ]
  },
  {
   "cell_type": "markdown",
   "id": "213b9e47-e385-4124-aa19-a4dc0f87eaac",
   "metadata": {},
   "source": [
    "If a data is right skewed then the tail on the right side of the distribution is longer or\n",
    "fatter than the left side.\n",
    "\n",
    "Therefore , mean will be present at more right side of the distribution.\n",
    "\n",
    "mean > median > mode"
   ]
  },
  {
   "cell_type": "code",
   "execution_count": null,
   "id": "8f502e81-c096-4231-9ae2-667a41bb6412",
   "metadata": {},
   "outputs": [],
   "source": []
  },
  {
   "cell_type": "markdown",
   "id": "a06e40d9-8abd-4e87-9ab2-d9f62f83b6f3",
   "metadata": {},
   "source": [
    "Q10. Explain the difference between covariance and correlation. How are these measures used in\n",
    "statistical analysis?"
   ]
  },
  {
   "cell_type": "markdown",
   "id": "2d2f856a-53e3-4b8c-a284-d15a4c0c12cc",
   "metadata": {},
   "source": [
    "Solution:"
   ]
  },
  {
   "cell_type": "markdown",
   "id": "e8b6e4f5-f697-4162-83b5-e0c04d4af0d9",
   "metadata": {},
   "source": [
    "Covariance and correlation are used in statistical analysis to measure the relationship between two variables. \n",
    "\n",
    "Covariance measures how two variables change together, while correlation measures how strong the relationship is between two variables. Covariance can be positive or negative, indicating that the variables move in the same direction or opposite directions, respectively. \n",
    "\n",
    "Correlation is always between -1 and 1, with -1 indicating a perfect negative correlation (when one variable goes up, the other goes down) and 1 indicating a perfect positive correlation (when one variable goes up, the other goes up as well). A correlation of 0 indicates no relationship between the variables.\n",
    "\n",
    "In statistical analysis, covariance and correlation are used to determine how much two variables are related to each other. They are used to identify patterns in data and to make predictions about future data points. Correlation is often used in regression analysis to determine how much of an effect one variable has on another."
   ]
  },
  {
   "cell_type": "code",
   "execution_count": null,
   "id": "9d446109-c2bd-4081-b642-3eebf85c35da",
   "metadata": {},
   "outputs": [],
   "source": []
  },
  {
   "cell_type": "markdown",
   "id": "0b9b959f-d62a-435d-8a83-ae21cc5a0f8d",
   "metadata": {},
   "source": [
    "Q11. What is the formula for calculating the sample mean? Provide an example calculation for a\n",
    "dataset."
   ]
  },
  {
   "cell_type": "markdown",
   "id": "d341fd64-e2f1-4455-8799-e725681841af",
   "metadata": {},
   "source": [
    "Solution:"
   ]
  },
  {
   "cell_type": "markdown",
   "id": "b15fe1c8-05cc-41bb-ad5c-a32c4e40ecb6",
   "metadata": {},
   "source": [
    "The formula for calculating the sample mean is x̄ = (Σ xi) ÷ n. Here, x̄ denotes the average value of the samples or sample mean, xi refers all X sample values and ‘n’ stands for the number of sample terms in the given data."
   ]
  },
  {
   "cell_type": "code",
   "execution_count": 1,
   "id": "a10a9170-0363-4986-87e7-2a51eb29b5a8",
   "metadata": {},
   "outputs": [
    {
     "data": {
      "text/plain": [
       "14.666666666666666"
      ]
     },
     "execution_count": 1,
     "metadata": {},
     "output_type": "execute_result"
    }
   ],
   "source": [
    "import numpy as np\n",
    "\n",
    "arr = [1,23,5,8,6,45]\n",
    "\n",
    "np.mean(arr)"
   ]
  },
  {
   "cell_type": "code",
   "execution_count": null,
   "id": "ca1903cf-e022-416b-bdd5-764bd991ad24",
   "metadata": {},
   "outputs": [],
   "source": []
  },
  {
   "cell_type": "markdown",
   "id": "c1a3c455-128f-4cd9-8b53-aff3fd8d626e",
   "metadata": {},
   "source": [
    "Q12. For a normal distribution data what is the relationship between its measure of central tendency?"
   ]
  },
  {
   "cell_type": "markdown",
   "id": "bfe4ed43-c725-434f-a24d-5ce83e2106db",
   "metadata": {},
   "source": [
    "Solution:"
   ]
  },
  {
   "cell_type": "markdown",
   "id": "3f003952-51c9-48fb-a23a-5d8262bc8238",
   "metadata": {},
   "source": [
    "For a normal distribution data , all measures of central tendency give the same answer\n",
    "\n",
    "mean = median = mode"
   ]
  },
  {
   "cell_type": "code",
   "execution_count": null,
   "id": "55dea6e4-7644-4798-b452-cbc4712c4a0d",
   "metadata": {},
   "outputs": [],
   "source": []
  },
  {
   "cell_type": "markdown",
   "id": "b459ed1b-c886-4414-88ce-88ead51410bc",
   "metadata": {},
   "source": [
    "Q13. How is covariance different from correlation?"
   ]
  },
  {
   "cell_type": "markdown",
   "id": "406db264-9951-43c5-aa7e-d51bf3d6f6e8",
   "metadata": {},
   "source": [
    "Solution:"
   ]
  },
  {
   "cell_type": "markdown",
   "id": "efcb6037-9be1-4190-8e8f-db4ea4fab510",
   "metadata": {},
   "source": [
    "Covariance measures how two variables change together, while correlation measures how strong the relationship is between two variables. Covariance can be positive or negative, indicating that the variables move in the same direction or opposite directions, respectively. \n",
    "\n",
    "Correlation is always between -1 and 1, with -1 indicating a perfect negative correlation (when one variable goes up, the other goes down) and 1 indicating a perfect positive correlation (when one variable goes up, the other goes up as well). A correlation of 0 indicates no relationship between the variables."
   ]
  },
  {
   "cell_type": "code",
   "execution_count": null,
   "id": "4f27bced-96c8-4d07-8ca4-4d2da3086218",
   "metadata": {},
   "outputs": [],
   "source": []
  },
  {
   "cell_type": "markdown",
   "id": "5a5d5b4b-4e1c-4d94-83a5-02e6c9506a30",
   "metadata": {},
   "source": [
    "Q14. How do outliers affect measures of central tendency and dispersion? Provide an example."
   ]
  },
  {
   "cell_type": "markdown",
   "id": "04a92200-46a2-4706-bdad-2048c75d089d",
   "metadata": {},
   "source": [
    "Outliers can have a significant impact on measures of central tendency and dispersion. For example, outliers can inflate the mean value and make it an unreliable measure of central tendency. The mode may become useless as a measure of central tendency when outliers are present. Outliers have little effect on the median, which is a more robust measure of central tendency"
   ]
  },
  {
   "cell_type": "code",
   "execution_count": 9,
   "id": "6ce3c1a1-d92b-4ac5-bdd6-d516d51d4db6",
   "metadata": {},
   "outputs": [],
   "source": [
    "arr = [1,2,3,4,4,5,6,100,100]"
   ]
  },
  {
   "cell_type": "code",
   "execution_count": 10,
   "id": "3fa8ced0-7aed-4802-97f4-3e52427def0f",
   "metadata": {},
   "outputs": [
    {
     "data": {
      "text/plain": [
       "25.0"
      ]
     },
     "execution_count": 10,
     "metadata": {},
     "output_type": "execute_result"
    }
   ],
   "source": [
    "np.mean(arr)"
   ]
  },
  {
   "cell_type": "code",
   "execution_count": 11,
   "id": "3d982f78-a105-4c5b-a3d6-840ff434e028",
   "metadata": {},
   "outputs": [
    {
     "data": {
      "text/plain": [
       "4.0"
      ]
     },
     "execution_count": 11,
     "metadata": {},
     "output_type": "execute_result"
    }
   ],
   "source": [
    "np.median(arr)"
   ]
  },
  {
   "cell_type": "code",
   "execution_count": 12,
   "id": "77f485f5-4ac7-495f-a386-d1231a1ff2a0",
   "metadata": {},
   "outputs": [
    {
     "name": "stderr",
     "output_type": "stream",
     "text": [
      "/tmp/ipykernel_77/629960472.py:2: FutureWarning: Unlike other reduction functions (e.g. `skew`, `kurtosis`), the default behavior of `mode` typically preserves the axis it acts along. In SciPy 1.11.0, this behavior will change: the default value of `keepdims` will become False, the `axis` over which the statistic is taken will be eliminated, and the value None will no longer be accepted. Set `keepdims` to True or False to avoid this warning.\n",
      "  stats.mode(arr)\n"
     ]
    },
    {
     "data": {
      "text/plain": [
       "ModeResult(mode=array([4]), count=array([2]))"
      ]
     },
     "execution_count": 12,
     "metadata": {},
     "output_type": "execute_result"
    }
   ],
   "source": [
    "from scipy import stats\n",
    "stats.mode(arr)"
   ]
  },
  {
   "cell_type": "code",
   "execution_count": null,
   "id": "c1a15bc5-516b-4f2b-b899-45ac3a8e75a0",
   "metadata": {},
   "outputs": [],
   "source": []
  },
  {
   "cell_type": "code",
   "execution_count": null,
   "id": "02bd5ddf-df10-4e72-a4ff-97f453a1515b",
   "metadata": {},
   "outputs": [],
   "source": []
  }
 ],
 "metadata": {
  "kernelspec": {
   "display_name": "Python 3 (ipykernel)",
   "language": "python",
   "name": "python3"
  },
  "language_info": {
   "codemirror_mode": {
    "name": "ipython",
    "version": 3
   },
   "file_extension": ".py",
   "mimetype": "text/x-python",
   "name": "python",
   "nbconvert_exporter": "python",
   "pygments_lexer": "ipython3",
   "version": "3.10.8"
  }
 },
 "nbformat": 4,
 "nbformat_minor": 5
}
